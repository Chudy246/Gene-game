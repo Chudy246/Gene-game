{
 "cells": [
  {
   "cell_type": "code",
   "execution_count": 1,
   "id": "15af3602",
   "metadata": {},
   "outputs": [],
   "source": [
    "import sys\n",
    "sys.path.append(\"./scripts\")\n",
    "\n",
    "from functions_basic import *\n",
    "from numpy.random import default_rng\n",
    "import random\n",
    "from collections import deque\n"
   ]
  },
  {
   "cell_type": "markdown",
   "id": "94987eae",
   "metadata": {},
   "source": [
    "## 1st version"
   ]
  },
  {
   "cell_type": "code",
   "execution_count": 2,
   "id": "3aa00a37",
   "metadata": {},
   "outputs": [],
   "source": [
    "class Animal:\n",
    "    # should contain its genome and possibility of changing it - genome as the thing that's causing the change\n",
    "    def __init__(self, age, genome):\n",
    "        self.age = age\n",
    "        self.genome = genome\n",
    "    \n",
    "    def survival(self, kill_factors):\n",
    "        # check if the Animal is going to survive this turn - this depends on killing factors from the world + probably age\n",
    "        \n",
    "        def sigmoid(x): return 1/(1 + np.exp(-x))\n",
    "\n",
    "        probabilities = sigmoid(np.array(kill_factors) - np.array(self.genome.genes))\n",
    "        rng = default_rng()\n",
    "        \n",
    "        return max(probabilities) < rng.uniform()\n",
    "        \n",
    "    \n",
    "    def mutate(self):\n",
    "        # allow for a slight chance for mutations during its life + also including destruction of genes? (maybe later)\n",
    "        self.genome.genes = self.genome.genes + 0.1* np.random.uniform(-1, 1, size=len(self.genome.genes))\n",
    "        pass\n",
    "    \n",
    "\n",
    "class Genome:\n",
    "    # should contain genes\n",
    "    def __init__(self, genes: list):\n",
    "        self.genes = genes\n",
    "    \n",
    "\n",
    "class World:\n",
    "    # should contain all animals and allow for their procreation \n",
    "    # + the world includes the killing factors which can change with time\n",
    "    def __init__(self, animals, killing_factors):\n",
    "        self.animals = animals\n",
    "        self.killing_factors = killing_factors\n",
    "        self.time = 0\n",
    "    \n",
    "    def procreate(self):\n",
    "        for i in range(int(len(self.animals)/5)):\n",
    "            chosen_animals = random.sample(self.animals, 2)\n",
    "            rng = default_rng()\n",
    "            new_genome = [a_genome if rng.uniform() > 0.5 else b_genome for i, (a_genome, b_genome) in enumerate(zip(chosen_animals[0].genome.genes, chosen_animals[1].genome.genes))]\n",
    "            self.animals.append(Animal(0, Genome(new_genome)))\n",
    "    \n",
    "    def survival_check(self):\n",
    "        alive_animals = []\n",
    "        for animal in self.animals:\n",
    "            if animal.survival(self.killing_factors):\n",
    "                alive_animals.append(animal)\n",
    "                \n",
    "        self.animals = alive_animals\n",
    "        \n",
    "            \n",
    "    def progress_time(self):\n",
    "        self.time += 1\n",
    "        for animal in self.animals:\n",
    "            animal.age += 1\n",
    "            animal.mutate()\n",
    "        \n",
    "        if self.time % 5== 0:\n",
    "            self.survival_check()\n",
    "\n",
    "        self.procreate()\n",
    "        print(f\"Current time: {self.time}\")\n",
    "        print(f\"Number of alive animals: {len(self.animals)}\")\n",
    "#         return [animal.age for animal in self.animals], [animal.genome.genes for animal in self.animals]\n"
   ]
  },
  {
   "cell_type": "markdown",
   "id": "6282afff",
   "metadata": {},
   "source": [
    "## Faster (hopefully) implementation using stack and matrices\n"
   ]
  },
  {
   "cell_type": "code",
   "execution_count": 3,
   "id": "0b7b1a84",
   "metadata": {},
   "outputs": [],
   "source": [
    "from functions_gene import *"
   ]
  },
  {
   "cell_type": "code",
   "execution_count": 4,
   "id": "8614144b",
   "metadata": {},
   "outputs": [],
   "source": [
    "import time"
   ]
  },
  {
   "cell_type": "code",
   "execution_count": 5,
   "id": "dc8b8977",
   "metadata": {},
   "outputs": [],
   "source": [
    "# max_pop = 50000\n",
    "# animal_alive = np.zeros(max_pop)\n",
    "# animal_alive[:500] = 1\n",
    "\n",
    "# animal_age = np.random.uniform(0, 40, size=max_pop)\n",
    "# animal_age = animal_age*animal_alive\n",
    "\n",
    "# animal_genes = np.random.uniform(0, 1, size=(max_pop, 2))\n",
    "# animal_genes = (animal_genes.T*animal_alive).T\n",
    "\n",
    "# animal_alive = pd.Series(animal_alive).apply(bool)\n",
    "# animal_age = pd.Series(animal_age).apply(int)\n",
    "# animal_genes = pd.DataFrame(animal_genes)\n",
    "\n",
    "# kill_factors = [-50, 0.2]\n",
    "\n",
    "# world = World(animal_alive, animal_age, animal_genes, kill_factors)"
   ]
  },
  {
   "cell_type": "code",
   "execution_count": 6,
   "id": "ca7c6e55",
   "metadata": {},
   "outputs": [],
   "source": [
    "# for i in range(200):\n",
    "#     world.progress_time()\n",
    "#     time.sleep(0.5)"
   ]
  },
  {
   "cell_type": "code",
   "execution_count": 7,
   "id": "f01e1edc",
   "metadata": {},
   "outputs": [],
   "source": [
    "max_pop = 30000\n",
    "animal_alive = np.zeros(max_pop)\n",
    "animal_alive[:25000] = 1\n",
    "\n",
    "animal_age = np.random.uniform(0, 40, size=max_pop)\n",
    "animal_age = animal_age*animal_alive\n",
    "\n",
    "animal_genes = np.random.uniform(0, 1, size=(max_pop, 2))\n",
    "animal_genes = (animal_genes.T*animal_alive).T\n",
    "\n",
    "animal_alive = pd.Series(animal_alive).apply(bool)\n",
    "animal_age = pd.Series(animal_age).apply(int)\n",
    "animal_genes = pd.DataFrame(animal_genes)\n",
    "\n",
    "kill_factors = [-50, 2]\n",
    "\n",
    "world = World(animal_alive, animal_age, animal_genes, kill_factors, printout=True)"
   ]
  },
  {
   "cell_type": "code",
   "execution_count": 8,
   "id": "ec5a0c76",
   "metadata": {},
   "outputs": [],
   "source": [
    "# for i in range(200):\n",
    "#     world.progress_time()\n",
    "#     time.sleep(1)"
   ]
  },
  {
   "cell_type": "code",
   "execution_count": 9,
   "id": "2c8805b0",
   "metadata": {},
   "outputs": [
    {
     "data": {
      "text/plain": [
       "[20.0,\n",
       " 0,\n",
       " 9.0,\n",
       " 30.0,\n",
       " 39,\n",
       " 19.49208,\n",
       " 11.610382305230091,\n",
       " 0.5083600082569323,\n",
       " 1.2724007033559914e-06,\n",
       " 0.25816480226244776,\n",
       " 0.7542071906021465,\n",
       " 0.9999981771155999,\n",
       " 0.505564638691711,\n",
       " 0.2872200587888432,\n",
       " 0.49203987485408784,\n",
       " 6.962438242641422e-05,\n",
       " 0.2414279318159284,\n",
       " 0.7426662054357696,\n",
       " 0.9999744987606358,\n",
       " 0.4944008742068947,\n",
       " 0.2886900715940526]"
      ]
     },
     "execution_count": 9,
     "metadata": {},
     "output_type": "execute_result"
    }
   ],
   "source": [
    "# create a dataset of population statistics\n",
    "world.statistics()"
   ]
  },
  {
   "cell_type": "code",
   "execution_count": null,
   "id": "8c96b8ab",
   "metadata": {},
   "outputs": [],
   "source": [
    "# create columns for individual stats,\n",
    "# aggregate into a list data from 200 turns\n",
    "# have a look at this data through histograms and other graphs\n",
    "# see how you can start going through the book and think of interesting ideas to investigate"
   ]
  }
 ],
 "metadata": {
  "kernelspec": {
   "display_name": "Python 3",
   "language": "python",
   "name": "python3"
  },
  "language_info": {
   "codemirror_mode": {
    "name": "ipython",
    "version": 3
   },
   "file_extension": ".py",
   "mimetype": "text/x-python",
   "name": "python",
   "nbconvert_exporter": "python",
   "pygments_lexer": "ipython3",
   "version": "3.8.9"
  }
 },
 "nbformat": 4,
 "nbformat_minor": 5
}

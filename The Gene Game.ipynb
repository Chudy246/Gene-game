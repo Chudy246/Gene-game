{
 "cells": [
  {
   "cell_type": "code",
   "execution_count": 1,
   "id": "01c7e61c",
   "metadata": {},
   "outputs": [],
   "source": [
    "import sys\n",
    "sys.path.append(\"./scripts\")\n",
    "\n",
    "from functions_basic import *\n",
    "from numpy.random import default_rng\n",
    "import random\n",
    "from collections import deque\n"
   ]
  },
  {
   "cell_type": "code",
   "execution_count": 46,
   "id": "4282b886",
   "metadata": {},
   "outputs": [],
   "source": [
    "class Animal:\n",
    "    # should contain its genome and possibility of changing it - genome as the thing that's causing the change\n",
    "    def __init__(self, age, genome):\n",
    "        self.age = age\n",
    "        self.genome = genome\n",
    "    \n",
    "    def survival(self, kill_factors):\n",
    "        # check if the Animal is going to survive this turn - this depends on killing factors from the world + probably age\n",
    "        \n",
    "        def sigmoid(x): return 1/(1 + np.exp(-x))\n",
    "\n",
    "        probabilities = sigmoid(np.array(kill_factors) - np.array(self.genome.genes))\n",
    "        rng = default_rng()\n",
    "        \n",
    "        return max(probabilities) < rng.uniform()\n",
    "        \n",
    "    \n",
    "    def mutate(self):\n",
    "        # allow for a slight chance for mutations during its life + also including destruction of genes? (maybe later)\n",
    "        self.genome.genes = self.genome.genes + 0.1* np.random.uniform(-1, 1, size=len(self.genome.genes))\n",
    "        pass\n",
    "    \n",
    "\n",
    "class Genome:\n",
    "    # should contain genes\n",
    "    def __init__(self, genes: list):\n",
    "        self.genes = genes\n",
    "    \n",
    "\n",
    "class World:\n",
    "    # should contain all animals and allow for their procreation \n",
    "    # + the world includes the killing factors which can change with time\n",
    "    def __init__(self, animals, killing_factors):\n",
    "        self.animals = animals\n",
    "        self.killing_factors = killing_factors\n",
    "        self.time = 0\n",
    "    \n",
    "    def procreate(self):\n",
    "        for i in range(int(len(self.animals)/5)):\n",
    "            chosen_animals = random.sample(self.animals, 2)\n",
    "            rng = default_rng()\n",
    "            new_genome = [a_genome if rng.uniform() > 0.5 else b_genome for i, (a_genome, b_genome) in enumerate(zip(chosen_animals[0].genome.genes, chosen_animals[1].genome.genes))]\n",
    "            self.animals.append(Animal(0, Genome(new_genome)))\n",
    "    \n",
    "    def survival_check(self):\n",
    "        alive_animals = []\n",
    "        for animal in self.animals:\n",
    "            if animal.survival(self.killing_factors):\n",
    "                alive_animals.append(animal)\n",
    "                \n",
    "        self.animals = alive_animals\n",
    "        \n",
    "            \n",
    "    def progress_time(self):\n",
    "        self.time += 1\n",
    "        for animal in self.animals:\n",
    "            animal.age += 1\n",
    "            animal.mutate()\n",
    "        \n",
    "        if self.time % 5== 0:\n",
    "            self.survival_check()\n",
    "\n",
    "        self.procreate()\n",
    "        print(f\"Current time: {self.time}\")\n",
    "        print(f\"Number of alive animals: {len(self.animals)}\")\n",
    "#         return [animal.age for animal in self.animals], [animal.genome.genes for animal in self.animals]\n"
   ]
  },
  {
   "cell_type": "code",
   "execution_count": 47,
   "id": "6824f4b4",
   "metadata": {},
   "outputs": [],
   "source": [
    "rng = default_rng()\n",
    "animals = [Animal(int(rng.uniform(0, 20)), Genome([rng.uniform() for i in range(2)])) for i in range(100)]\n",
    "killing_factors = [-10, 0.2]\n",
    "world = World(animals, killing_factors)"
   ]
  },
  {
   "cell_type": "code",
   "execution_count": 102,
   "id": "5b187378",
   "metadata": {},
   "outputs": [
    {
     "name": "stdout",
     "output_type": "stream",
     "text": [
      "Current time: 55\n",
      "Number of alive animals: 16615\n"
     ]
    }
   ],
   "source": [
    "world.progress_time();"
   ]
  },
  {
   "cell_type": "code",
   "execution_count": 105,
   "id": "8cef5369",
   "metadata": {},
   "outputs": [
    {
     "data": {
      "text/plain": [
       "array([1.40290139, 0.95650335, 1.71757285, ..., 1.26458511, 1.77761402,\n",
       "       1.1119142 ])"
      ]
     },
     "execution_count": 105,
     "metadata": {},
     "output_type": "execute_result"
    }
   ],
   "source": [
    "genes = np.array([animal.genome.genes for animal in world.animals])\n",
    "genes.transpose()[1]"
   ]
  },
  {
   "cell_type": "code",
   "execution_count": 107,
   "id": "96e918a3",
   "metadata": {},
   "outputs": [
    {
     "data": {
      "text/plain": [
       "(array([  12.,  102.,  561., 1864., 4185., 5091., 3453., 1129.,  204.,\n",
       "          14.]),\n",
       " array([-0.61952351, -0.28208394,  0.05535564,  0.39279521,  0.73023478,\n",
       "         1.06767436,  1.40511393,  1.74255351,  2.07999308,  2.41743265,\n",
       "         2.75487223]),\n",
       " <BarContainer object of 10 artists>)"
      ]
     },
     "execution_count": 107,
     "metadata": {},
     "output_type": "execute_result"
    },
    {
     "data": {
      "image/png": "[encoded data removed]",
      "text/plain": [
       "<Figure size 432x288 with 1 Axes>"
      ]
     },
     "metadata": {},
     "output_type": "display_data"
    }
   ],
   "source": [
    "plt.hist(genes.transpose()[1])"
   ]
  },
  {
   "cell_type": "code",
   "execution_count": 108,
   "id": "54759049",
   "metadata": {},
   "outputs": [
    {
     "data": {
      "text/plain": [
       "(array([  10.,  308., 1303., 2941., 4172., 4115., 2498.,  934.,  276.,\n",
       "          58.]),\n",
       " array([-1.17655467, -0.84481667, -0.51307867, -0.18134067,  0.15039733,\n",
       "         0.48213533,  0.81387333,  1.14561133,  1.47734933,  1.80908733,\n",
       "         2.14082533]),\n",
       " <BarContainer object of 10 artists>)"
      ]
     },
     "execution_count": 108,
     "metadata": {},
     "output_type": "execute_result"
    },
    {
     "data": {
      "image/png": "[encoded data removed]",
      "text/plain": [
       "<Figure size 432x288 with 1 Axes>"
      ]
     },
     "metadata": {},
     "output_type": "display_data"
    }
   ],
   "source": [
    "plt.hist(genes.transpose()[0])"
   ]
  },
  {
   "cell_type": "code",
   "execution_count": null,
   "id": "4b7f798e",
   "metadata": {},
   "outputs": [],
   "source": [
    "# Actually, I just need one array and one matrix to do the whole thing, then that can be analysed easily using statistics\n",
    "# Recreate the above sim using numpy arrays."
   ]
  },
  {
   "cell_type": "code",
   "execution_count": 6,
   "id": "48d7b214",
   "metadata": {},
   "outputs": [
    {
     "data": {
      "text/plain": [
       "[0.5176530735457227, 0.7422869577644416]"
      ]
     },
     "execution_count": 6,
     "metadata": {},
     "output_type": "execute_result"
    }
   ],
   "source": [
    "world.animals[-1].genome.genes"
   ]
  },
  {
   "cell_type": "markdown",
   "id": "392a0848",
   "metadata": {},
   "source": [
    "## Faster (hopefully) implementation using stack and matrices\n"
   ]
  },
  {
   "cell_type": "code",
   "execution_count": 221,
   "id": "75848928",
   "metadata": {},
   "outputs": [],
   "source": [
    "from collections import deque\n",
    "\n",
    "class World:\n",
    "    def __init__(self, animal_alive: pd.Series, animal_age: pd.Series, animal_genes: pd.DataFrame, kill_factors: pd.Series):\n",
    "        \"\"\"\n",
    "        animal_alive -> pd.Series with True for alive animals and False for dead animals\n",
    "        animal_age -> pd.Series of integers starting from zero\n",
    "        animal_genes -> DataFrame containing numerical values of genes w.r.t. kill_factors, each row is another animal\n",
    "        kill_factors -> pd.Series of length equal to columns of animal_genes, \n",
    "                        describes numerical factors determining survivability of animals from the environment\n",
    "        \"\"\"\n",
    "        self.animal_alive = animal_alive\n",
    "        self.animal_age = animal_age\n",
    "        self.animal_genes = animal_genes\n",
    "        self.time = 0\n",
    "        self.kill_factors = kill_factors\n",
    "        self.animal_number = animal_alive.sum()\n",
    "        self.max_pop = len(animal_alive)  # maximum length of the array\n",
    "        \n",
    "        # stack for tracking dead animals\n",
    "        dead_stack = deque()\n",
    "        dead_animals = animal_alive.apply(lambda x: not x)\n",
    "        dead_animals = dead_animals[dead_animals].index.values  # since dead animals is a boolean array we can obtain index values\n",
    "        for i in range(len(dead_animals)):\n",
    "            dead_stack.append(dead_animals[-1-i])\n",
    "        \n",
    "        self.dead_stack = dead_stack\n",
    "            \n",
    "    def mutate(self):\n",
    "        \"\"\"\n",
    "        Mutate genes of alive animals, use alive animals as a mask\n",
    "        \"\"\"\n",
    "        print(\"mutate\")\n",
    "        gene_change = 0.1 * np.random.uniform(-1, 1, size=self.animal_genes.shape)\n",
    "        mask = self.animal_alive.apply(int)\n",
    "        self.animal_genes += (gene_change.T * mask.values).T  # adding change only to alive animals\n",
    "        \n",
    "        \n",
    "    def survival(self):\n",
    "        \"\"\"\n",
    "        Check for which animals are killed, update the dead_stack and alive animals\n",
    "        \"\"\"\n",
    "        # algorithm for death from external factors\n",
    "        print(\"calculate odds\")\n",
    "        odds = (self.kill_factors - self.animal_genes).sum(axis=1)\n",
    "        \n",
    "        MULT_FACTOR = 10\n",
    "        def sigmoid(x): return 1/(1 + MULT_FACTOR*np.exp(-x))\n",
    "        print(\"calculate probabilities\")\n",
    "        probabilities = sigmoid(odds)\n",
    "        \n",
    "        alive = np.random.uniform(0, 1, size=len(probabilities)) > probabilities\n",
    "        mask = self.animal_alive.apply(int)\n",
    "        alive = alive*mask  # converts dead from boolean to int\n",
    "        \n",
    "        # death from lack of food - depends on population size\n",
    "        print(\"calculate food\")\n",
    "        survival_probability = 1 - self.animal_number / self.max_pop\n",
    "        food_allowed = np.random.uniform(0, 1, size=self.max_pop) < survival_probability\n",
    "        food_allowed = food_allowed*mask\n",
    "        \n",
    "        alive = np.logical_and(alive, food_allowed)\n",
    "        \n",
    "        # update the animal_alive and dead_stack - bookkeeping\n",
    "        print(\"bookkeeping\")\n",
    "        new_dead = np.logical_xor(self.animal_alive, alive)\n",
    "        print(\"line 1\")\n",
    "        self.animal_alive = alive\n",
    "        print(\"line 2\")\n",
    "        self.animal_age = self.animal_age * alive.apply(int)\n",
    "        print(\"line 3\")\n",
    "        self.animal_genes = (self.animal_genes.values.T * alive.apply(int).values).T\n",
    "        print(\"line 4\")\n",
    "        \n",
    "        print(\"New Dead\")\n",
    "        new_dead = new_dead[new_dead].index.values\n",
    "        self.animal_number -= len(new_dead)\n",
    "        print(f\"{len(new_dead)} animals died this turn\")\n",
    "        \n",
    "        print(\"dead_stack\")\n",
    "        for i in range(len(new_dead)):\n",
    "            self.dead_stack.append(new_dead[-1-i])\n",
    "        \n",
    "        \n",
    "    \n",
    "    def procreate(self):\n",
    "        \"\"\"\n",
    "        Create new animals out of mating of existing ones, update the dead_stack and alive animals\n",
    "        \"\"\"\n",
    "        print(\"procreation\")\n",
    "        alive = self.animal_alive[self.animal_alive].index.values\n",
    "        PROPORTION_MATING = 0.2\n",
    "        new_animals_number = int(PROPORTION_MATING*len(alive))\n",
    "        self.animal_number += new_animals_number\n",
    "        \n",
    "        print(f\"{new_animals_number} animals were born this turn\")\n",
    "        \n",
    "        for i in range(new_animals_number):\n",
    "            chosen_animals = random.sample(alive, 2)\n",
    "            a_genome, b_genome = self.animal_genes.iloc[chosen_animals[0], :], self.animal_genes.iloc[chosen_animal[1], :]\n",
    "            \n",
    "            new_genome = np.where(np.random.uniform(0, 1, size=len(a_genome)) > 0.5, a_genome, b_genome)\n",
    "            \n",
    "            # update the main matrix\n",
    "            index = self.dead_stack.pop()\n",
    "            self.animal_age[index] = 0\n",
    "            self.animal_alive[index] = True\n",
    "            self.animal_genes.iloc[index, :] = new_genome\n",
    "    \n",
    "    def statistics(self):\n",
    "        pass\n",
    "        \n",
    "    def progress_time(self):\n",
    "        self.time += 1\n",
    "        print(f\"Turn: {self.time}\")\n",
    "        self.animal_age += self.animal_alive.apply(int)\n",
    "        print(f\"Average animal age is {np.sum(self.animal_age) / self.animal_number}\")\n",
    "        \n",
    "        self.mutate()\n",
    "        self.survival()\n",
    "        self.procreate()\n",
    "        print(f\"The total number of animals is {self.animal_number}\")\n",
    "        \n",
    "        \n",
    "        "
   ]
  },
  {
   "cell_type": "code",
   "execution_count": 222,
   "id": "242e99ee",
   "metadata": {},
   "outputs": [],
   "source": [
    "max_pop = 50000\n",
    "animal_alive = np.zeros(max_pop)\n",
    "animal_alive[:500] = 1\n",
    "\n",
    "animal_age = np.random.uniform(0, 40, size=max_pop)\n",
    "animal_age = animal_age*animal_alive\n",
    "\n",
    "animal_genes = np.random.uniform(0, 1, size=(max_pop, 2))\n",
    "animal_genes = (animal_genes.T*animal_alive).T\n",
    "\n",
    "animal_alive = pd.Series(animal_alive).apply(bool)\n",
    "animal_age = pd.Series(animal_age).apply(int)\n",
    "animal_genes = pd.DataFrame(animal_genes)\n",
    "\n",
    "kill_factors = [-50, 0.2]\n",
    "\n",
    "world = World(animal_alive, animal_age, animal_genes, kill_factors)"
   ]
  },
  {
   "cell_type": "code",
   "execution_count": 223,
   "id": "dd42f988",
   "metadata": {},
   "outputs": [
    {
     "name": "stdout",
     "output_type": "stream",
     "text": [
      "Turn: 1\n",
      "Average animal age is 20.128\n",
      "mutate\n",
      "calculate odds\n",
      "calculate probabilities\n",
      "calculate food\n",
      "bookkeeping\n",
      "line 1\n",
      "line 2\n",
      "line 3\n",
      "line 4\n",
      "New Dead\n",
      "6 animals died this turn\n",
      "dead_stack\n",
      "procreation\n",
      "98 animals were born this turn\n"
     ]
    },
    {
     "ename": "TypeError",
     "evalue": "Population must be a sequence or set.  For dicts, use list(d).",
     "output_type": "error",
     "traceback": [
      "\u001b[1;31m---------------------------------------------------------------------------\u001b[0m",
      "\u001b[1;31mTypeError\u001b[0m                                 Traceback (most recent call last)",
      "\u001b[1;32m<ipython-input-223-eea36ad45634>\u001b[0m in \u001b[0;36m<module>\u001b[1;34m\u001b[0m\n\u001b[1;32m----> 1\u001b[1;33m \u001b[0mworld\u001b[0m\u001b[1;33m.\u001b[0m\u001b[0mprogress_time\u001b[0m\u001b[1;33m(\u001b[0m\u001b[1;33m)\u001b[0m\u001b[1;33m\u001b[0m\u001b[1;33m\u001b[0m\u001b[0m\n\u001b[0m",
      "\u001b[1;32m<ipython-input-221-d7428777ddd2>\u001b[0m in \u001b[0;36mprogress_time\u001b[1;34m(self)\u001b[0m\n\u001b[0;32m    119\u001b[0m         \u001b[0mself\u001b[0m\u001b[1;33m.\u001b[0m\u001b[0mmutate\u001b[0m\u001b[1;33m(\u001b[0m\u001b[1;33m)\u001b[0m\u001b[1;33m\u001b[0m\u001b[1;33m\u001b[0m\u001b[0m\n\u001b[0;32m    120\u001b[0m         \u001b[0mself\u001b[0m\u001b[1;33m.\u001b[0m\u001b[0msurvival\u001b[0m\u001b[1;33m(\u001b[0m\u001b[1;33m)\u001b[0m\u001b[1;33m\u001b[0m\u001b[1;33m\u001b[0m\u001b[0m\n\u001b[1;32m--> 121\u001b[1;33m         \u001b[0mself\u001b[0m\u001b[1;33m.\u001b[0m\u001b[0mprocreate\u001b[0m\u001b[1;33m(\u001b[0m\u001b[1;33m)\u001b[0m\u001b[1;33m\u001b[0m\u001b[1;33m\u001b[0m\u001b[0m\n\u001b[0m\u001b[0;32m    122\u001b[0m         \u001b[0mprint\u001b[0m\u001b[1;33m(\u001b[0m\u001b[1;34mf\"The total number of animals is {self.animal_number}\"\u001b[0m\u001b[1;33m)\u001b[0m\u001b[1;33m\u001b[0m\u001b[1;33m\u001b[0m\u001b[0m\n\u001b[0;32m    123\u001b[0m \u001b[1;33m\u001b[0m\u001b[0m\n",
      "\u001b[1;32m<ipython-input-221-d7428777ddd2>\u001b[0m in \u001b[0;36mprocreate\u001b[1;34m(self)\u001b[0m\n\u001b[0;32m     97\u001b[0m \u001b[1;33m\u001b[0m\u001b[0m\n\u001b[0;32m     98\u001b[0m         \u001b[1;32mfor\u001b[0m \u001b[0mi\u001b[0m \u001b[1;32min\u001b[0m \u001b[0mrange\u001b[0m\u001b[1;33m(\u001b[0m\u001b[0mnew_animals_number\u001b[0m\u001b[1;33m)\u001b[0m\u001b[1;33m:\u001b[0m\u001b[1;33m\u001b[0m\u001b[1;33m\u001b[0m\u001b[0m\n\u001b[1;32m---> 99\u001b[1;33m             \u001b[0mchosen_animals\u001b[0m \u001b[1;33m=\u001b[0m \u001b[0mrandom\u001b[0m\u001b[1;33m.\u001b[0m\u001b[0msample\u001b[0m\u001b[1;33m(\u001b[0m\u001b[0malive\u001b[0m\u001b[1;33m,\u001b[0m \u001b[1;36m2\u001b[0m\u001b[1;33m)\u001b[0m\u001b[1;33m\u001b[0m\u001b[1;33m\u001b[0m\u001b[0m\n\u001b[0m\u001b[0;32m    100\u001b[0m             \u001b[0ma_genome\u001b[0m\u001b[1;33m,\u001b[0m \u001b[0mb_genome\u001b[0m \u001b[1;33m=\u001b[0m \u001b[0mself\u001b[0m\u001b[1;33m.\u001b[0m\u001b[0manimal_genes\u001b[0m\u001b[1;33m.\u001b[0m\u001b[0miloc\u001b[0m\u001b[1;33m[\u001b[0m\u001b[0mchosen_animals\u001b[0m\u001b[1;33m[\u001b[0m\u001b[1;36m0\u001b[0m\u001b[1;33m]\u001b[0m\u001b[1;33m,\u001b[0m \u001b[1;33m:\u001b[0m\u001b[1;33m]\u001b[0m\u001b[1;33m,\u001b[0m \u001b[0mself\u001b[0m\u001b[1;33m.\u001b[0m\u001b[0manimal_genes\u001b[0m\u001b[1;33m.\u001b[0m\u001b[0miloc\u001b[0m\u001b[1;33m[\u001b[0m\u001b[0mchosen_animal\u001b[0m\u001b[1;33m[\u001b[0m\u001b[1;36m1\u001b[0m\u001b[1;33m]\u001b[0m\u001b[1;33m,\u001b[0m \u001b[1;33m:\u001b[0m\u001b[1;33m]\u001b[0m\u001b[1;33m\u001b[0m\u001b[1;33m\u001b[0m\u001b[0m\n\u001b[0;32m    101\u001b[0m \u001b[1;33m\u001b[0m\u001b[0m\n",
      "\u001b[1;32mC:\\Python\\Python38\\lib\\random.py\u001b[0m in \u001b[0;36msample\u001b[1;34m(self, population, k)\u001b[0m\n\u001b[0;32m    357\u001b[0m             \u001b[0mpopulation\u001b[0m \u001b[1;33m=\u001b[0m \u001b[0mtuple\u001b[0m\u001b[1;33m(\u001b[0m\u001b[0mpopulation\u001b[0m\u001b[1;33m)\u001b[0m\u001b[1;33m\u001b[0m\u001b[1;33m\u001b[0m\u001b[0m\n\u001b[0;32m    358\u001b[0m         \u001b[1;32mif\u001b[0m \u001b[1;32mnot\u001b[0m \u001b[0misinstance\u001b[0m\u001b[1;33m(\u001b[0m\u001b[0mpopulation\u001b[0m\u001b[1;33m,\u001b[0m \u001b[0m_Sequence\u001b[0m\u001b[1;33m)\u001b[0m\u001b[1;33m:\u001b[0m\u001b[1;33m\u001b[0m\u001b[1;33m\u001b[0m\u001b[0m\n\u001b[1;32m--> 359\u001b[1;33m             \u001b[1;32mraise\u001b[0m \u001b[0mTypeError\u001b[0m\u001b[1;33m(\u001b[0m\u001b[1;34m\"Population must be a sequence or set.  For dicts, use list(d).\"\u001b[0m\u001b[1;33m)\u001b[0m\u001b[1;33m\u001b[0m\u001b[1;33m\u001b[0m\u001b[0m\n\u001b[0m\u001b[0;32m    360\u001b[0m         \u001b[0mrandbelow\u001b[0m \u001b[1;33m=\u001b[0m \u001b[0mself\u001b[0m\u001b[1;33m.\u001b[0m\u001b[0m_randbelow\u001b[0m\u001b[1;33m\u001b[0m\u001b[1;33m\u001b[0m\u001b[0m\n\u001b[0;32m    361\u001b[0m         \u001b[0mn\u001b[0m \u001b[1;33m=\u001b[0m \u001b[0mlen\u001b[0m\u001b[1;33m(\u001b[0m\u001b[0mpopulation\u001b[0m\u001b[1;33m)\u001b[0m\u001b[1;33m\u001b[0m\u001b[1;33m\u001b[0m\u001b[0m\n",
      "\u001b[1;31mTypeError\u001b[0m: Population must be a sequence or set.  For dicts, use list(d)."
     ]
    }
   ],
   "source": [
    "world.progress_time()"
   ]
  },
  {
   "cell_type": "code",
   "execution_count": 209,
   "id": "c24f00ca",
   "metadata": {},
   "outputs": [
    {
     "data": {
      "text/plain": [
       "(0    1\n",
       " 1    1\n",
       " 2    1\n",
       " 3    1\n",
       " 4    1\n",
       " 5    1\n",
       " 6    1\n",
       " 7    1\n",
       " 8    1\n",
       " 9    1\n",
       " dtype: int64,\n",
       "           0         1\n",
       " 0  0.872966  0.608066\n",
       " 1  0.363364  0.920007\n",
       " 2  0.564938  0.512111\n",
       " 3  0.505930  0.231134\n",
       " 4  0.692581  0.730125\n",
       " 5  0.271621  0.369853\n",
       " 6  0.264103  0.911529\n",
       " 7  0.079577  0.654805\n",
       " 8  0.369237  0.773160\n",
       " 9  0.944684  0.619425)"
      ]
     },
     "execution_count": 209,
     "metadata": {},
     "output_type": "execute_result"
    }
   ],
   "source": [
    "a1 = world.animal_alive.apply(int)\n",
    "a2 = world.animal_genes\n",
    "a1, a2"
   ]
  },
  {
   "cell_type": "code",
   "execution_count": 210,
   "id": "b5811d95",
   "metadata": {},
   "outputs": [
    {
     "data": {
      "text/html": [
       "<div>\n",
       "<style scoped>\n",
       "    .dataframe tbody tr th:only-of-type {\n",
       "        vertical-align: middle;\n",
       "    }\n",
       "\n",
       "    .dataframe tbody tr th {\n",
       "        vertical-align: top;\n",
       "    }\n",
       "\n",
       "    .dataframe thead th {\n",
       "        text-align: right;\n",
       "    }\n",
       "</style>\n",
       "<table border=\"1\" class=\"dataframe\">\n",
       "  <thead>\n",
       "    <tr style=\"text-align: right;\">\n",
       "      <th></th>\n",
       "      <th>0</th>\n",
       "      <th>1</th>\n",
       "      <th>2</th>\n",
       "      <th>3</th>\n",
       "      <th>4</th>\n",
       "      <th>5</th>\n",
       "      <th>6</th>\n",
       "      <th>7</th>\n",
       "      <th>8</th>\n",
       "      <th>9</th>\n",
       "    </tr>\n",
       "  </thead>\n",
       "  <tbody>\n",
       "    <tr>\n",
       "      <th>0</th>\n",
       "      <td>0.872966</td>\n",
       "      <td>0.608066</td>\n",
       "      <td>NaN</td>\n",
       "      <td>NaN</td>\n",
       "      <td>NaN</td>\n",
       "      <td>NaN</td>\n",
       "      <td>NaN</td>\n",
       "      <td>NaN</td>\n",
       "      <td>NaN</td>\n",
       "      <td>NaN</td>\n",
       "    </tr>\n",
       "    <tr>\n",
       "      <th>1</th>\n",
       "      <td>0.363364</td>\n",
       "      <td>0.920007</td>\n",
       "      <td>NaN</td>\n",
       "      <td>NaN</td>\n",
       "      <td>NaN</td>\n",
       "      <td>NaN</td>\n",
       "      <td>NaN</td>\n",
       "      <td>NaN</td>\n",
       "      <td>NaN</td>\n",
       "      <td>NaN</td>\n",
       "    </tr>\n",
       "    <tr>\n",
       "      <th>2</th>\n",
       "      <td>0.564938</td>\n",
       "      <td>0.512111</td>\n",
       "      <td>NaN</td>\n",
       "      <td>NaN</td>\n",
       "      <td>NaN</td>\n",
       "      <td>NaN</td>\n",
       "      <td>NaN</td>\n",
       "      <td>NaN</td>\n",
       "      <td>NaN</td>\n",
       "      <td>NaN</td>\n",
       "    </tr>\n",
       "    <tr>\n",
       "      <th>3</th>\n",
       "      <td>0.505930</td>\n",
       "      <td>0.231134</td>\n",
       "      <td>NaN</td>\n",
       "      <td>NaN</td>\n",
       "      <td>NaN</td>\n",
       "      <td>NaN</td>\n",
       "      <td>NaN</td>\n",
       "      <td>NaN</td>\n",
       "      <td>NaN</td>\n",
       "      <td>NaN</td>\n",
       "    </tr>\n",
       "    <tr>\n",
       "      <th>4</th>\n",
       "      <td>0.692581</td>\n",
       "      <td>0.730125</td>\n",
       "      <td>NaN</td>\n",
       "      <td>NaN</td>\n",
       "      <td>NaN</td>\n",
       "      <td>NaN</td>\n",
       "      <td>NaN</td>\n",
       "      <td>NaN</td>\n",
       "      <td>NaN</td>\n",
       "      <td>NaN</td>\n",
       "    </tr>\n",
       "    <tr>\n",
       "      <th>5</th>\n",
       "      <td>0.271621</td>\n",
       "      <td>0.369853</td>\n",
       "      <td>NaN</td>\n",
       "      <td>NaN</td>\n",
       "      <td>NaN</td>\n",
       "      <td>NaN</td>\n",
       "      <td>NaN</td>\n",
       "      <td>NaN</td>\n",
       "      <td>NaN</td>\n",
       "      <td>NaN</td>\n",
       "    </tr>\n",
       "    <tr>\n",
       "      <th>6</th>\n",
       "      <td>0.264103</td>\n",
       "      <td>0.911529</td>\n",
       "      <td>NaN</td>\n",
       "      <td>NaN</td>\n",
       "      <td>NaN</td>\n",
       "      <td>NaN</td>\n",
       "      <td>NaN</td>\n",
       "      <td>NaN</td>\n",
       "      <td>NaN</td>\n",
       "      <td>NaN</td>\n",
       "    </tr>\n",
       "    <tr>\n",
       "      <th>7</th>\n",
       "      <td>0.079577</td>\n",
       "      <td>0.654805</td>\n",
       "      <td>NaN</td>\n",
       "      <td>NaN</td>\n",
       "      <td>NaN</td>\n",
       "      <td>NaN</td>\n",
       "      <td>NaN</td>\n",
       "      <td>NaN</td>\n",
       "      <td>NaN</td>\n",
       "      <td>NaN</td>\n",
       "    </tr>\n",
       "    <tr>\n",
       "      <th>8</th>\n",
       "      <td>0.369237</td>\n",
       "      <td>0.773160</td>\n",
       "      <td>NaN</td>\n",
       "      <td>NaN</td>\n",
       "      <td>NaN</td>\n",
       "      <td>NaN</td>\n",
       "      <td>NaN</td>\n",
       "      <td>NaN</td>\n",
       "      <td>NaN</td>\n",
       "      <td>NaN</td>\n",
       "    </tr>\n",
       "    <tr>\n",
       "      <th>9</th>\n",
       "      <td>0.944684</td>\n",
       "      <td>0.619425</td>\n",
       "      <td>NaN</td>\n",
       "      <td>NaN</td>\n",
       "      <td>NaN</td>\n",
       "      <td>NaN</td>\n",
       "      <td>NaN</td>\n",
       "      <td>NaN</td>\n",
       "      <td>NaN</td>\n",
       "      <td>NaN</td>\n",
       "    </tr>\n",
       "  </tbody>\n",
       "</table>\n",
       "</div>"
      ],
      "text/plain": [
       "          0         1   2   3   4   5   6   7   8   9\n",
       "0  0.872966  0.608066 NaN NaN NaN NaN NaN NaN NaN NaN\n",
       "1  0.363364  0.920007 NaN NaN NaN NaN NaN NaN NaN NaN\n",
       "2  0.564938  0.512111 NaN NaN NaN NaN NaN NaN NaN NaN\n",
       "3  0.505930  0.231134 NaN NaN NaN NaN NaN NaN NaN NaN\n",
       "4  0.692581  0.730125 NaN NaN NaN NaN NaN NaN NaN NaN\n",
       "5  0.271621  0.369853 NaN NaN NaN NaN NaN NaN NaN NaN\n",
       "6  0.264103  0.911529 NaN NaN NaN NaN NaN NaN NaN NaN\n",
       "7  0.079577  0.654805 NaN NaN NaN NaN NaN NaN NaN NaN\n",
       "8  0.369237  0.773160 NaN NaN NaN NaN NaN NaN NaN NaN\n",
       "9  0.944684  0.619425 NaN NaN NaN NaN NaN NaN NaN NaN"
      ]
     },
     "execution_count": 210,
     "metadata": {},
     "output_type": "execute_result"
    }
   ],
   "source": [
    "a2 * a1"
   ]
  },
  {
   "cell_type": "code",
   "execution_count": 179,
   "id": "614fb3cf",
   "metadata": {},
   "outputs": [
    {
     "data": {
      "text/plain": [
       "0.0"
      ]
     },
     "execution_count": 179,
     "metadata": {},
     "output_type": "execute_result"
    }
   ],
   "source": [
    "animal_alive[500]"
   ]
  },
  {
   "cell_type": "code",
   "execution_count": 174,
   "id": "a1e4dd71",
   "metadata": {},
   "outputs": [
    {
     "data": {
      "text/html": [
       "<div>\n",
       "<style scoped>\n",
       "    .dataframe tbody tr th:only-of-type {\n",
       "        vertical-align: middle;\n",
       "    }\n",
       "\n",
       "    .dataframe tbody tr th {\n",
       "        vertical-align: top;\n",
       "    }\n",
       "\n",
       "    .dataframe thead th {\n",
       "        text-align: right;\n",
       "    }\n",
       "</style>\n",
       "<table border=\"1\" class=\"dataframe\">\n",
       "  <thead>\n",
       "    <tr style=\"text-align: right;\">\n",
       "      <th></th>\n",
       "      <th>0</th>\n",
       "      <th>1</th>\n",
       "      <th>2</th>\n",
       "    </tr>\n",
       "  </thead>\n",
       "  <tbody>\n",
       "    <tr>\n",
       "      <th>0</th>\n",
       "      <td>-0.9</td>\n",
       "      <td>-1.8</td>\n",
       "      <td>-2.9</td>\n",
       "    </tr>\n",
       "    <tr>\n",
       "      <th>1</th>\n",
       "      <td>1.0</td>\n",
       "      <td>0.0</td>\n",
       "      <td>1.0</td>\n",
       "    </tr>\n",
       "    <tr>\n",
       "      <th>2</th>\n",
       "      <td>-6.9</td>\n",
       "      <td>-7.8</td>\n",
       "      <td>-8.9</td>\n",
       "    </tr>\n",
       "    <tr>\n",
       "      <th>3</th>\n",
       "      <td>-9.9</td>\n",
       "      <td>-10.8</td>\n",
       "      <td>-11.9</td>\n",
       "    </tr>\n",
       "  </tbody>\n",
       "</table>\n",
       "</div>"
      ],
      "text/plain": [
       "     0     1     2\n",
       "0 -0.9  -1.8  -2.9\n",
       "1  1.0   0.0   1.0\n",
       "2 -6.9  -7.8  -8.9\n",
       "3 -9.9 -10.8 -11.9"
      ]
     },
     "execution_count": 174,
     "metadata": {},
     "output_type": "execute_result"
    }
   ],
   "source": [
    "a3"
   ]
  }
 ],
 "metadata": {
  "kernelspec": {
   "display_name": "Python 3",
   "language": "python",
   "name": "python3"
  },
  "language_info": {
   "codemirror_mode": {
    "name": "ipython",
    "version": 3
   },
   "file_extension": ".py",
   "mimetype": "text/x-python",
   "name": "python",
   "nbconvert_exporter": "python",
   "pygments_lexer": "ipython3",
   "version": "3.8.9"
  }
 },
 "nbformat": 4,
 "nbformat_minor": 5
}
